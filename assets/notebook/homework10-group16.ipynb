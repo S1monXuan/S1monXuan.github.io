{
 "cells": [
  {
   "cell_type": "markdown",
   "id": "bb20e82d",
   "metadata": {},
   "source": [
    "# Homework #10\n",
    "# Group16 \n",
    "## xinmai xuan, peng lu, xiao zhang"
   ]
  },
  {
   "cell_type": "code",
   "execution_count": 1,
   "id": "699c4339",
   "metadata": {},
   "outputs": [],
   "source": [
    "import altair as alt"
   ]
  },
  {
   "cell_type": "markdown",
   "id": "fb866461",
   "metadata": {},
   "source": [
    "# PLOT 1"
   ]
  },
  {
   "cell_type": "markdown",
   "id": "16abce5a",
   "metadata": {},
   "source": [
    "1. Description of the visualization:\n",
    "    In the first plot, we use the `Big Foot` dataset to show the range of highest temperature in each states people obeserved big foot.\n",
    "2.  Design choices: \n",
    "    + Axis: we set x-axis to show the temperature range and y-axis to show the states.\n",
    "    + Encoding: `temperature_high` is quantitative, and `state` is ordinal instead of nomial because we want it to be automatically sorted by alphabetical.\n",
    "    + Color scheme: We use greenblue color scheme.\n",
    "3. Data transformations: we divided the `temperature_high` into bins.\n",
    "4. Improvement from HW9: we don't use hw9 from anyone in our group."
   ]
  },
  {
   "cell_type": "code",
   "execution_count": 2,
   "id": "8c41da2d",
   "metadata": {},
   "outputs": [],
   "source": [
    "URL=\"https://raw.githubusercontent.com/UIUC-iSchool-DataViz/is445_bcubcg_fall2022/main/data/bfro_reports_fall2022.csv\""
   ]
  },
  {
   "cell_type": "code",
   "execution_count": 3,
   "id": "45eccc76",
   "metadata": {},
   "outputs": [
    {
     "data": {
      "text/html": [
       "\n",
       "<div id=\"altair-viz-0947b93f38124aee9862b6a211e2409d\"></div>\n",
       "<script type=\"text/javascript\">\n",
       "  var VEGA_DEBUG = (typeof VEGA_DEBUG == \"undefined\") ? {} : VEGA_DEBUG;\n",
       "  (function(spec, embedOpt){\n",
       "    let outputDiv = document.currentScript.previousElementSibling;\n",
       "    if (outputDiv.id !== \"altair-viz-0947b93f38124aee9862b6a211e2409d\") {\n",
       "      outputDiv = document.getElementById(\"altair-viz-0947b93f38124aee9862b6a211e2409d\");\n",
       "    }\n",
       "    const paths = {\n",
       "      \"vega\": \"https://cdn.jsdelivr.net/npm//vega@5?noext\",\n",
       "      \"vega-lib\": \"https://cdn.jsdelivr.net/npm//vega-lib?noext\",\n",
       "      \"vega-lite\": \"https://cdn.jsdelivr.net/npm//vega-lite@4.17.0?noext\",\n",
       "      \"vega-embed\": \"https://cdn.jsdelivr.net/npm//vega-embed@6?noext\",\n",
       "    };\n",
       "\n",
       "    function maybeLoadScript(lib, version) {\n",
       "      var key = `${lib.replace(\"-\", \"\")}_version`;\n",
       "      return (VEGA_DEBUG[key] == version) ?\n",
       "        Promise.resolve(paths[lib]) :\n",
       "        new Promise(function(resolve, reject) {\n",
       "          var s = document.createElement('script');\n",
       "          document.getElementsByTagName(\"head\")[0].appendChild(s);\n",
       "          s.async = true;\n",
       "          s.onload = () => {\n",
       "            VEGA_DEBUG[key] = version;\n",
       "            return resolve(paths[lib]);\n",
       "          };\n",
       "          s.onerror = () => reject(`Error loading script: ${paths[lib]}`);\n",
       "          s.src = paths[lib];\n",
       "        });\n",
       "    }\n",
       "\n",
       "    function showError(err) {\n",
       "      outputDiv.innerHTML = `<div class=\"error\" style=\"color:red;\">${err}</div>`;\n",
       "      throw err;\n",
       "    }\n",
       "\n",
       "    function displayChart(vegaEmbed) {\n",
       "      vegaEmbed(outputDiv, spec, embedOpt)\n",
       "        .catch(err => showError(`Javascript Error: ${err.message}<br>This usually means there's a typo in your chart specification. See the javascript console for the full traceback.`));\n",
       "    }\n",
       "\n",
       "    if(typeof define === \"function\" && define.amd) {\n",
       "      requirejs.config({paths});\n",
       "      require([\"vega-embed\"], displayChart, err => showError(`Error loading script: ${err.message}`));\n",
       "    } else {\n",
       "      maybeLoadScript(\"vega\", \"5\")\n",
       "        .then(() => maybeLoadScript(\"vega-lite\", \"4.17.0\"))\n",
       "        .then(() => maybeLoadScript(\"vega-embed\", \"6\"))\n",
       "        .catch(showError)\n",
       "        .then(() => displayChart(vegaEmbed));\n",
       "    }\n",
       "  })({\"config\": {\"view\": {\"continuousWidth\": 400, \"continuousHeight\": 300}}, \"data\": {\"url\": \"https://raw.githubusercontent.com/UIUC-iSchool-DataViz/is445_bcubcg_fall2022/main/data/bfro_reports_fall2022.csv\"}, \"mark\": \"rect\", \"encoding\": {\"color\": {\"aggregate\": \"count\", \"scale\": {\"scheme\": \"greenblue\"}, \"type\": \"quantitative\"}, \"x\": {\"bin\": {\"maxbins\": 10}, \"field\": \"temperature_high\", \"type\": \"quantitative\"}, \"y\": {\"field\": \"state\", \"type\": \"ordinal\"}}, \"height\": 400, \"$schema\": \"https://vega.github.io/schema/vega-lite/v4.17.0.json\"}, {\"mode\": \"vega-lite\"});\n",
       "</script>"
      ],
      "text/plain": [
       "alt.Chart(...)"
      ]
     },
     "execution_count": 3,
     "metadata": {},
     "output_type": "execute_result"
    }
   ],
   "source": [
    "rect_alt = alt.Chart(URL).mark_rect().encode(\n",
    "    alt.X(\"temperature_high:Q\",bin=alt.Bin(maxbins=10)),\n",
    "    alt.Y(\"state:O\"),\n",
    "    alt.Color(\"count():Q\", scale=alt.Scale(scheme='greenblue'))\n",
    ").properties(\n",
    "    height=400\n",
    ")\n",
    "rect_alt"
   ]
  },
  {
   "cell_type": "code",
   "execution_count": 10,
   "id": "0e0c546e",
   "metadata": {},
   "outputs": [],
   "source": [
    "rect_alt.save('hw10_pt1.json')"
   ]
  },
  {
   "cell_type": "markdown",
   "id": "ecd25fc9",
   "metadata": {},
   "source": [
    "# PLOT 2\n"
   ]
  },
  {
   "cell_type": "markdown",
   "id": "a4c79fce",
   "metadata": {},
   "source": [
    "1. Description of the visualization:\n",
    "    In the second plot, we show the recurrence of precipitation probability in the places people obeserved big foot.\n",
    "2.  Design choices: \n",
    "    + Axis: x-axis is the range of precipitation probability and y-axis is the frequency.\n",
    "    + Encoding: `precip-pobability` is quantitative, and `recurrence` is ordinal, a discrete ordered quantity by calculation.\n",
    "    + Color scheme: We use defult color.\n",
    "3. Data transformations: we divided the `precip-pobability` into bins, grouped the data by the bins, and count the number for in each bin.\n",
    "4. Improvement from HW9: we don't use hw9 from anyone in our group.\n"
   ]
  },
  {
   "cell_type": "code",
   "execution_count": 5,
   "id": "b345e215",
   "metadata": {},
   "outputs": [
    {
     "data": {
      "text/html": [
       "\n",
       "<div id=\"altair-viz-4f1516a014214ce8ade43a865ec136f0\"></div>\n",
       "<script type=\"text/javascript\">\n",
       "  var VEGA_DEBUG = (typeof VEGA_DEBUG == \"undefined\") ? {} : VEGA_DEBUG;\n",
       "  (function(spec, embedOpt){\n",
       "    let outputDiv = document.currentScript.previousElementSibling;\n",
       "    if (outputDiv.id !== \"altair-viz-4f1516a014214ce8ade43a865ec136f0\") {\n",
       "      outputDiv = document.getElementById(\"altair-viz-4f1516a014214ce8ade43a865ec136f0\");\n",
       "    }\n",
       "    const paths = {\n",
       "      \"vega\": \"https://cdn.jsdelivr.net/npm//vega@5?noext\",\n",
       "      \"vega-lib\": \"https://cdn.jsdelivr.net/npm//vega-lib?noext\",\n",
       "      \"vega-lite\": \"https://cdn.jsdelivr.net/npm//vega-lite@4.17.0?noext\",\n",
       "      \"vega-embed\": \"https://cdn.jsdelivr.net/npm//vega-embed@6?noext\",\n",
       "    };\n",
       "\n",
       "    function maybeLoadScript(lib, version) {\n",
       "      var key = `${lib.replace(\"-\", \"\")}_version`;\n",
       "      return (VEGA_DEBUG[key] == version) ?\n",
       "        Promise.resolve(paths[lib]) :\n",
       "        new Promise(function(resolve, reject) {\n",
       "          var s = document.createElement('script');\n",
       "          document.getElementsByTagName(\"head\")[0].appendChild(s);\n",
       "          s.async = true;\n",
       "          s.onload = () => {\n",
       "            VEGA_DEBUG[key] = version;\n",
       "            return resolve(paths[lib]);\n",
       "          };\n",
       "          s.onerror = () => reject(`Error loading script: ${paths[lib]}`);\n",
       "          s.src = paths[lib];\n",
       "        });\n",
       "    }\n",
       "\n",
       "    function showError(err) {\n",
       "      outputDiv.innerHTML = `<div class=\"error\" style=\"color:red;\">${err}</div>`;\n",
       "      throw err;\n",
       "    }\n",
       "\n",
       "    function displayChart(vegaEmbed) {\n",
       "      vegaEmbed(outputDiv, spec, embedOpt)\n",
       "        .catch(err => showError(`Javascript Error: ${err.message}<br>This usually means there's a typo in your chart specification. See the javascript console for the full traceback.`));\n",
       "    }\n",
       "\n",
       "    if(typeof define === \"function\" && define.amd) {\n",
       "      requirejs.config({paths});\n",
       "      require([\"vega-embed\"], displayChart, err => showError(`Error loading script: ${err.message}`));\n",
       "    } else {\n",
       "      maybeLoadScript(\"vega\", \"5\")\n",
       "        .then(() => maybeLoadScript(\"vega-lite\", \"4.17.0\"))\n",
       "        .then(() => maybeLoadScript(\"vega-embed\", \"6\"))\n",
       "        .catch(showError)\n",
       "        .then(() => displayChart(vegaEmbed));\n",
       "    }\n",
       "  })({\"config\": {\"view\": {\"continuousWidth\": 400, \"continuousHeight\": 300}}, \"data\": {\"url\": \"https://raw.githubusercontent.com/UIUC-iSchool-DataViz/is445_bcubcg_fall2022/main/data/bfro_reports_fall2022.csv\"}, \"mark\": \"bar\", \"encoding\": {\"x\": {\"axis\": {\"title\": \"precip-probability\"}, \"bin\": {\"maxbins\": 15}, \"field\": \"precip_probability\", \"type\": \"quantitative\"}, \"y\": {\"aggregate\": \"count\", \"axis\": {\"title\": \"recurrence\"}, \"type\": \"quantitative\"}}, \"$schema\": \"https://vega.github.io/schema/vega-lite/v4.17.0.json\"}, {\"mode\": \"vega-lite\"});\n",
       "</script>"
      ],
      "text/plain": [
       "alt.Chart(...)"
      ]
     },
     "execution_count": 5,
     "metadata": {},
     "output_type": "execute_result"
    }
   ],
   "source": [
    "hist_alt = alt.Chart(URL).mark_bar().encode(\n",
    "    alt.X(\"precip_probability:Q\",bin=alt.Bin(maxbins=15),\n",
    "         axis=alt.Axis(title='precip-probability')),\n",
    "    alt.Y(\"count()\", axis=alt.Axis(title='recurrence')) \n",
    ")\n",
    "\n",
    "hist_alt"
   ]
  },
  {
   "cell_type": "code",
   "execution_count": 9,
   "id": "d8918572",
   "metadata": {},
   "outputs": [],
   "source": [
    "hist_alt.save('hw10_pt2.json')"
   ]
  },
  {
   "cell_type": "markdown",
   "id": "70f88128",
   "metadata": {},
   "source": [
    "# Interaction"
   ]
  },
  {
   "cell_type": "markdown",
   "id": "db3ee99d",
   "metadata": {},
   "source": [
    "**Specify what interactivity you chose for one (or more) plots and how this helps your visualization be more clear or interesting:**\n",
    "\n",
    "We first plotted a grid-heat map between each state and its high temperature in the places people observed big foot, and then created a bar chart of the recurrence of precip-probability. Through interactivity, we can explore the recurrence of precipitation probability for specific State at different temperature range intervals. What interesting we find is in the places has higher temperature, the recurrence of precipitation is higher too."
   ]
  },
  {
   "cell_type": "code",
   "execution_count": 7,
   "id": "a3e082e1",
   "metadata": {},
   "outputs": [
    {
     "data": {
      "text/html": [
       "\n",
       "<div id=\"altair-viz-e6a917fa59b949e19d9064036db37b45\"></div>\n",
       "<script type=\"text/javascript\">\n",
       "  var VEGA_DEBUG = (typeof VEGA_DEBUG == \"undefined\") ? {} : VEGA_DEBUG;\n",
       "  (function(spec, embedOpt){\n",
       "    let outputDiv = document.currentScript.previousElementSibling;\n",
       "    if (outputDiv.id !== \"altair-viz-e6a917fa59b949e19d9064036db37b45\") {\n",
       "      outputDiv = document.getElementById(\"altair-viz-e6a917fa59b949e19d9064036db37b45\");\n",
       "    }\n",
       "    const paths = {\n",
       "      \"vega\": \"https://cdn.jsdelivr.net/npm//vega@5?noext\",\n",
       "      \"vega-lib\": \"https://cdn.jsdelivr.net/npm//vega-lib?noext\",\n",
       "      \"vega-lite\": \"https://cdn.jsdelivr.net/npm//vega-lite@4.17.0?noext\",\n",
       "      \"vega-embed\": \"https://cdn.jsdelivr.net/npm//vega-embed@6?noext\",\n",
       "    };\n",
       "\n",
       "    function maybeLoadScript(lib, version) {\n",
       "      var key = `${lib.replace(\"-\", \"\")}_version`;\n",
       "      return (VEGA_DEBUG[key] == version) ?\n",
       "        Promise.resolve(paths[lib]) :\n",
       "        new Promise(function(resolve, reject) {\n",
       "          var s = document.createElement('script');\n",
       "          document.getElementsByTagName(\"head\")[0].appendChild(s);\n",
       "          s.async = true;\n",
       "          s.onload = () => {\n",
       "            VEGA_DEBUG[key] = version;\n",
       "            return resolve(paths[lib]);\n",
       "          };\n",
       "          s.onerror = () => reject(`Error loading script: ${paths[lib]}`);\n",
       "          s.src = paths[lib];\n",
       "        });\n",
       "    }\n",
       "\n",
       "    function showError(err) {\n",
       "      outputDiv.innerHTML = `<div class=\"error\" style=\"color:red;\">${err}</div>`;\n",
       "      throw err;\n",
       "    }\n",
       "\n",
       "    function displayChart(vegaEmbed) {\n",
       "      vegaEmbed(outputDiv, spec, embedOpt)\n",
       "        .catch(err => showError(`Javascript Error: ${err.message}<br>This usually means there's a typo in your chart specification. See the javascript console for the full traceback.`));\n",
       "    }\n",
       "\n",
       "    if(typeof define === \"function\" && define.amd) {\n",
       "      requirejs.config({paths});\n",
       "      require([\"vega-embed\"], displayChart, err => showError(`Error loading script: ${err.message}`));\n",
       "    } else {\n",
       "      maybeLoadScript(\"vega\", \"5\")\n",
       "        .then(() => maybeLoadScript(\"vega-lite\", \"4.17.0\"))\n",
       "        .then(() => maybeLoadScript(\"vega-embed\", \"6\"))\n",
       "        .catch(showError)\n",
       "        .then(() => displayChart(vegaEmbed));\n",
       "    }\n",
       "  })({\"config\": {\"view\": {\"continuousWidth\": 400, \"continuousHeight\": 300}}, \"hconcat\": [{\"mark\": \"rect\", \"encoding\": {\"color\": {\"aggregate\": \"count\", \"scale\": {\"scheme\": \"greenblue\"}, \"type\": \"quantitative\"}, \"x\": {\"bin\": {\"maxbins\": 10}, \"field\": \"temperature_high\", \"type\": \"quantitative\"}, \"y\": {\"field\": \"state\", \"type\": \"ordinal\"}}, \"height\": 400, \"selection\": {\"selector001\": {\"type\": \"interval\", \"encodings\": [\"x\", \"y\"]}}, \"width\": 300}, {\"mark\": \"bar\", \"encoding\": {\"x\": {\"axis\": {\"title\": \"precip-probability\"}, \"bin\": {\"maxbins\": 15}, \"field\": \"precip_probability\", \"type\": \"quantitative\"}, \"y\": {\"aggregate\": \"count\", \"axis\": {\"title\": \"recurrence\"}, \"type\": \"quantitative\"}}, \"transform\": [{\"filter\": {\"selection\": \"selector001\"}}], \"width\": 300}], \"data\": {\"url\": \"https://raw.githubusercontent.com/UIUC-iSchool-DataViz/is445_bcubcg_fall2022/main/data/bfro_reports_fall2022.csv\"}, \"$schema\": \"https://vega.github.io/schema/vega-lite/v4.17.0.json\"}, {\"mode\": \"vega-lite\"});\n",
       "</script>"
      ],
      "text/plain": [
       "alt.HConcatChart(...)"
      ]
     },
     "execution_count": 7,
     "metadata": {},
     "output_type": "execute_result"
    }
   ],
   "source": [
    "brush = alt.selection_interval(encodings=['x','y'])\n",
    "\n",
    "rect_alt = alt.Chart(URL).mark_rect().encode(\n",
    "    alt.X(\"temperature_high:Q\",bin=alt.Bin(maxbins=10)),\n",
    "    alt.Y(\"state:O\"),\n",
    "    alt.Color(\"count():Q\", scale=alt.Scale(scheme='greenblue'))\n",
    ").properties(\n",
    "    height=400\n",
    ").add_selection(\n",
    "    brush\n",
    ")\n",
    "\n",
    "\n",
    "hist_alt = alt.Chart(URL).mark_bar().encode(\n",
    "    alt.X(\"precip_probability:Q\",bin=alt.Bin(maxbins=15),\n",
    "         axis=alt.Axis(title='precip-probability')),\n",
    "    alt.Y(\"count()\", axis=alt.Axis(title='recurrence'))\n",
    "#     alt.Color(\"count():Q\", scale=alt.Scale(scheme='greenblue'))\n",
    "    \n",
    ").transform_filter(\n",
    "    brush\n",
    ")\n",
    "\n",
    "dashboard = rect_alt.properties(width=300) | hist_alt.properties(width=300)\n",
    "\n",
    "dashboard"
   ]
  },
  {
   "cell_type": "code",
   "execution_count": 11,
   "id": "f0ec0d49",
   "metadata": {},
   "outputs": [],
   "source": [
    "dashboard.save('hw10_fi.json')"
   ]
  },
  {
   "cell_type": "code",
   "execution_count": null,
   "id": "852cf3c4",
   "metadata": {},
   "outputs": [],
   "source": []
  }
 ],
 "metadata": {
  "kernelspec": {
   "display_name": "Python 3 (ipykernel)",
   "language": "python",
   "name": "python3"
  },
  "language_info": {
   "codemirror_mode": {
    "name": "ipython",
    "version": 3
   },
   "file_extension": ".py",
   "mimetype": "text/x-python",
   "name": "python",
   "nbconvert_exporter": "python",
   "pygments_lexer": "ipython3",
   "version": "3.8.13"
  },
  "vscode": {
   "interpreter": {
    "hash": "edd4210e39801dd2e160b13000e5bd576571926cc9a4645437ed1e6e11fe99f0"
   }
  }
 },
 "nbformat": 4,
 "nbformat_minor": 5
}
